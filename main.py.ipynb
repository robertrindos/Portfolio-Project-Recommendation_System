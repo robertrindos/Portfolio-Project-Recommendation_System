{
 "cells": [
  {
   "cell_type": "code",
   "execution_count": null,
   "id": "3e4fed25",
   "metadata": {},
   "outputs": [],
   "source": [
    "import pandas as pd\n",
    "import numpy as np\n"
   ]
  },
  {
   "cell_type": "code",
   "execution_count": 1,
   "id": "621f6b7e",
   "metadata": {},
   "outputs": [
    {
     "ename": "NameError",
     "evalue": "name 'pd' is not defined",
     "output_type": "error",
     "traceback": [
      "\u001b[1;31m---------------------------------------------------------------------------\u001b[0m",
      "\u001b[1;31mNameError\u001b[0m                                 Traceback (most recent call last)",
      "\u001b[1;32m<ipython-input-1-9dcf5400bdb6>\u001b[0m in \u001b[0;36m<module>\u001b[1;34m\u001b[0m\n\u001b[1;32m----> 1\u001b[1;33m \u001b[0mmovies\u001b[0m \u001b[1;33m=\u001b[0m \u001b[0mpd\u001b[0m\u001b[1;33m.\u001b[0m\u001b[0mread_csv\u001b[0m\u001b[1;33m(\u001b[0m\u001b[1;34m'gs://data_bucket_rr1/rotten_tomatoes_movies.csv'\u001b[0m\u001b[1;33m)\u001b[0m\u001b[1;33m\u001b[0m\u001b[1;33m\u001b[0m\u001b[0m\n\u001b[0m\u001b[0;32m      2\u001b[0m \u001b[0mrec_df\u001b[0m \u001b[1;33m=\u001b[0m \u001b[0mpd\u001b[0m\u001b[1;33m.\u001b[0m\u001b[0mread_csv\u001b[0m\u001b[1;33m(\u001b[0m\u001b[1;34m'gs://data_bucket_rr1/RecIndices.csv'\u001b[0m\u001b[1;33m)\u001b[0m\u001b[1;33m\u001b[0m\u001b[1;33m\u001b[0m\u001b[0m\n",
      "\u001b[1;31mNameError\u001b[0m: name 'pd' is not defined"
     ]
    }
   ],
   "source": [
    "movies = pd.read_csv('gs://data_bucket_rr1/rotten_tomatoes_movies.csv')\n",
    "rec_df = pd.read_csv('gs://data_bucket_rr1/RecIndices.csv')"
   ]
  },
  {
   "cell_type": "code",
   "execution_count": null,
   "id": "0941d90c",
   "metadata": {},
   "outputs": [],
   "source": []
  },
  {
   "cell_type": "code",
   "execution_count": null,
   "id": "7e2783ab",
   "metadata": {},
   "outputs": [],
   "source": [
    "# 2 - Cleans text features\n",
    "def CleanText(text):\n",
    "    print(\"Cleaning Text Features... \")\n",
    "    clean_features = text.fillna(' ', inplace=False)\n",
    "    for col in clean_features:\n",
    "        clean_features[col] = clean_features[col].apply(lambda x: str(x).replace(' ', ''))\n",
    "        clean_features[col] = clean_features[col].apply(lambda x: str(x).replace(',', ' '))\n",
    "        clean_features[col] = clean_features[col].apply(lambda x: str(x).lower())\n",
    "        clean_features[col] = clean_features[col].apply(lambda x: str(x).replace('&', ''))\n",
    "        clean_features[col] = clean_features[col].apply(lambda x: str(x).replace('.', ''))\n",
    "    return clean_features"
   ]
  },
  {
   "cell_type": "code",
   "execution_count": 59,
   "id": "7743b1f5",
   "metadata": {},
   "outputs": [
    {
     "name": "stdout",
     "output_type": "stream",
     "text": [
      "Calculating Similarity Scores...\n",
      "Done!\n",
      "Retrieving Recommendations...\n",
      "                                         movie_title tomatometer_rating  \\\n",
      "0                                           Zootopia               98.0   \n",
      "1                                      The Wild Life               17.0   \n",
      "2  Minuscule: Valley of the Lost Ants (Minuscule ...               90.0   \n",
      "3                                        Delhi Belly               88.0   \n",
      "4                                    No Holds Barred               10.0   \n",
      "5         Ice Age: Dawn of the Dinosaurs (Ice Age 3)               46.0   \n",
      "\n",
      "                              directors  \\\n",
      "0  Byron Howard, Rich Moore, Jared Bush   \n",
      "1                     Vincent Kesteloot   \n",
      "2           Hélène Giraud, Thomas Szabo   \n",
      "3                           Abhinay Deo   \n",
      "4                      Thomas J. Wright   \n",
      "5                                         \n",
      "\n",
      "                                              actors  \n",
      "0  J.K. Simmons, Kristen Bell, Octavia Spencer, A...  \n",
      "1  Matthias Schweighöfer, Kaya Yanar, Cindy aus M...  \n",
      "2                                                     \n",
      "3  Imran Khan, Kunaal Roy Kapur, Vir Das, Shenaz ...  \n",
      "4  Hulk Hogan, Kurt Fuller, Joan Severance, Tommy...  \n",
      "5                                                     \n"
     ]
    }
   ],
   "source": [
    "print(\"Retrieving Recommendations...\")\n",
    "\n",
    "chosen_movie = 'zootopia'\n",
    "titles = movies['movie_title']\n",
    "clean_titles = CleanText(titles)\n",
    "\n",
    "output_info = movies[['movie_title', 'tomatometer_rating', 'directors', 'actors','genres']]\n",
    "\n",
    "app = Flask(__name__)\n",
    "\n",
    "@app.route(\"/\")\n",
    "def Home():\n",
    "    return (\"Home Page\")\n",
    "\n",
    "@app.route(\"/Choose_Movie\", methods = [\"POST\", \"GET\"])\n",
    "def Choose_Movie(movie):\n",
    "    if request.method == \"POST\":\n",
    "        user = request.form[\"mov\"]\n",
    "        return redirect(url_for(\"mov\", usr=user))\n",
    "    else:\n",
    "        return render_template(\"Choose_Movie.html\")\n",
    "\n",
    "\n",
    "\n",
    "Choose_Movie.html\n",
    "{% extends \"base.html\" %}\n",
    "{% block title %}Overview{% endblock %}\n",
    "\n",
    "{% block content %}\n",
    "<form action=\"#\" method=\"post\">\n",
    "\t<p>Enter a movie you enjoy:</p>\n",
    "\t<p><input type=\"text\" name=\"nm\" /></p>\n",
    "\t<p><input type=\"submit\" value=\"submit\"/></p>\n",
    "</form>\n",
    "{% endblock %}\n",
    "\n",
    "def main():\n",
    "    pass\n",
    "\n",
    "if __name__ == \"__main__\":\n",
    "    pass\n"
   ]
  },
  {
   "cell_type": "code",
   "execution_count": null,
   "id": "07a91158",
   "metadata": {},
   "outputs": [],
   "source": []
  },
  {
   "cell_type": "code",
   "execution_count": null,
   "id": "625fa8c7",
   "metadata": {},
   "outputs": [],
   "source": []
  }
 ],
 "metadata": {
  "kernelspec": {
   "display_name": "Python 3",
   "language": "python",
   "name": "python3"
  },
  "language_info": {
   "codemirror_mode": {
    "name": "ipython",
    "version": 3
   },
   "file_extension": ".py",
   "mimetype": "text/x-python",
   "name": "python",
   "nbconvert_exporter": "python",
   "pygments_lexer": "ipython3",
   "version": "3.8.8"
  }
 },
 "nbformat": 4,
 "nbformat_minor": 5
}
